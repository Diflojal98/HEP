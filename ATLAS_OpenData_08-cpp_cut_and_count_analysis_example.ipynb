{
 "cells": [
  {
   "cell_type": "markdown",
   "metadata": {},
   "source": [
    "<CENTER><h1>Example of the reconstruction of the invariant Mass of the Z boson in C++</h1></CENTER>"
   ]
  },
  {
   "cell_type": "markdown",
   "metadata": {},
   "source": [
    "<CENTER>\n",
    "<img src=\"../Assets/Z_ElectronPositron.png\" style=\"width:30%\">\n",
    "</CENTER>"
   ]
  },
  {
   "cell_type": "markdown",
   "metadata": {},
   "source": [
    "<b>Introduction</b> Let's take a current ATLAS Open Data sample and create a histogram:"
   ]
  },
  {
   "cell_type": "code",
   "execution_count": 1,
   "metadata": {
    "collapsed": true
   },
   "outputs": [],
   "source": [
    "//%jsroot on"
   ]
  },
  {
   "cell_type": "markdown",
   "metadata": {},
   "source": [
    "We need to include some standard C++ and ROOT libraries"
   ]
  },
  {
   "cell_type": "code",
   "execution_count": 2,
   "metadata": {
    "collapsed": true
   },
   "outputs": [],
   "source": [
    "#include <iostream>  //libreria para habilitar la entrada y salida de data\n",
    "#include <string>    //Entrada de texto\n",
    "#include <stdio.h>   //Comando para el tratamiento de archivos de entrada y salida\n",
    "#include <time.h>    //Formato de fecha"
   ]
  },
  {
   "cell_type": "markdown",
   "metadata": {},
   "source": [
    "Because we would like to use more than one ROOT input file, the best option is to use a TChain object. This allows to \"chain\"  several samples into a single structure that we can later loop over"
   ]
  },
  {
   "cell_type": "code",
   "execution_count": 3,
   "metadata": {
    "collapsed": false
   },
   "outputs": [],
   "source": [
    "TChain *MonteCarlo = new TChain(\"mini\");  "
   ]
  },
  {
   "cell_type": "markdown",
   "metadata": {},
   "source": [
    "We're using two MonteCarlodirectly from the ATLAS Open Data. In this case, two Z->ll simulated samples:"
   ]
  },
  {
   "cell_type": "code",
   "execution_count": 4,
   "metadata": {
    "collapsed": true
   },
   "outputs": [],
   "source": [
    "MonteCarlo->Add(\"mc_147770.Zee.root\");\n",
    "MonteCarlo->Add(\"mc_147771.Zmumu.root\");"
   ]
  },
  {
   "cell_type": "markdown",
   "metadata": {},
   "source": [
    "We're extracting generic variables, like the RunNumber. This is a vwariable that heps to identify the sample inside the analysis code"
   ]
  },
  {
   "cell_type": "code",
   "execution_count": 5,
   "metadata": {
    "collapsed": false
   },
   "outputs": [],
   "source": [
    "Int_t MonteCarlo_runNumber = -1;   //Run identifier"
   ]
  },
  {
   "cell_type": "markdown",
   "metadata": {},
   "source": [
    "Now we're going to extract the leptons variables"
   ]
  },
  {
   "cell_type": "code",
   "execution_count": 6,
   "metadata": {
    "collapsed": false
   },
   "outputs": [],
   "source": [
    "Int_t  MonteCarlo_lep_n = -1,      //number of preselected leptons\n",
    "       MonteCarlo_lep_type[5];     //number signifying the lepton type (e, mu, tau) of the lepton\n",
    "\n",
    "Float_t MonteCarlo_lep_pt[5],      //transverse momentum of the lepton\n",
    "        MonteCarlo_lep_charge[5],  //charge of the lep\n",
    "        MonteCarlo_lep_eta[5],     //pseudorapidity of the lepton\n",
    "        MonteCarlo_lep_phi[5],     //azimuthal angle of the lepton\n",
    "        MonteCarlo_lep_E[5];       //energy of the lepton"
   ]
  },
  {
   "cell_type": "markdown",
   "metadata": {},
   "source": [
    "Here we're filling the variables defined above with the content of those inside the input ntuples"
   ]
  },
  {
   "cell_type": "code",
   "execution_count": 7,
   "metadata": {
    "collapsed": true
   },
   "outputs": [],
   "source": [
    "//MonteCarlo\n",
    "MonteCarlo->SetBranchAddress(\"channelNumber\", &MonteCarlo_runNumber);\n",
    "\n",
    "MonteCarlo->SetBranchAddress(\"lep_pt\",        &MonteCarlo_lep_pt);\n",
    "MonteCarlo->SetBranchAddress(\"lep_charge\",    &MonteCarlo_lep_charge);\n",
    "MonteCarlo->SetBranchAddress(\"lep_n\",         &MonteCarlo_lep_n);\n",
    "MonteCarlo->SetBranchAddress(\"lep_type\",      &MonteCarlo_lep_type);\n",
    "MonteCarlo->SetBranchAddress(\"lep_eta\",       &MonteCarlo_lep_eta);\n",
    "MonteCarlo->SetBranchAddress(\"lep_phi\",       &MonteCarlo_lep_phi);\n",
    "MonteCarlo->SetBranchAddress(\"lep_E\",         &MonteCarlo_lep_E);"
   ]
  },
  {
   "cell_type": "markdown",
   "metadata": {},
   "source": [
    "We're creating two (2) histograms for this example. The plan in to fill them with events coming from different input MC samples"
   ]
  },
  {
   "cell_type": "code",
   "execution_count": 8,
   "metadata": {
    "collapsed": false
   },
   "outputs": [],
   "source": [
    "//Definicion de los histogramas\n",
    "TH1F *h_M_Zee   = new TH1F(\"h_M_Zee\"  ,  \"Invariant Mass of the Z (Zee) ; M_Zee[GeV] ; # de eventos\" ,20,0,150);\n",
    "TH1F *h_M_Zmumu = new TH1F(\"h_M_Zmumu\",\"Invariant Mass of the Z (Zmumu) ; M_Zmumu[GeV] ; # de eventos\" ,20,0,150);\n",
    "TH1F *h_E_Zee = new TH1F(\"h_E_Zee\" , \"Energy of Z ; E_Z[GeV] ; # de eventos\" , 20,0,500);\n",
    "TH1F *h_pt_Zee = new TH1F(\"h_pt_Zee\" , \"Pt of Z ; pt_Z[GeV] ; # de eventos\" , 20,0,200);\n",
    "TH1F *h_E_Zmumu = new TH1F(\"h_E_Zmumu\" , \"Energy of Z ; E_Z[GeV] ; # de eventos\" , 20,0,500);\n",
    "TH1F *h_pt_Zmumu = new TH1F(\"h_pt_Zmumu\" , \"Pt of Z ; pt_Z[GeV] ; # de eventos\" , 20,0,200);"
   ]
  },
  {
   "cell_type": "markdown",
   "metadata": {},
   "source": [
    "We are selecting below a simple look for them"
   ]
  },
  {
   "cell_type": "code",
   "execution_count": 9,
   "metadata": {
    "collapsed": false
   },
   "outputs": [],
   "source": [
    "h_M_Zee->SetMarkerSize(2.0);\n",
    "h_M_Zee->SetLineColor(kRed);     //Caracteristicas graficas de como se desea plotear(tipo de linea,color de relleno y margen)\n",
    "h_M_Zee->SetFillColor(kRed-10);\n",
    "\n",
    "h_E_Zee->SetMarkerSize(2.0);\n",
    "h_E_Zee->SetLineColor(kBlue);      //Caracteristicas graficas de como se desea plotear(tipo de linea,color de relleno y margen)\n",
    "h_E_Zee->SetFillColor(kBlue-10);\n",
    "\n",
    "h_pt_Zee->SetMarkerSize(2.0);\n",
    "h_pt_Zee->SetLineColor(kYellow);  //Caracteristicas graficas de como se desea plotear(tipo de linea,color de relleno y margen)\n",
    "h_pt_Zee->SetFillColor(kYellow-10);\n",
    "\n",
    "h_M_Zmumu->SetMarkerSize(2.0);\n",
    "h_M_Zmumu->SetLineColor(kGreen);  //Caracteristicas graficas de como se desea plotear(tipo de linea,color de relleno y margen)\n",
    "h_M_Zmumu->SetFillColor(kGreen-10);\n",
    "\n",
    "h_E_Zmumu->SetMarkerSize(2.0);\n",
    "h_E_Zmumu->SetLineColor(kBlack);  //Caracteristicas graficas de como se desea plotear(tipo de linea,color de relleno y margen)\n",
    "h_E_Zmumu->SetFillColor(kBlack-10);\n",
    "\n",
    "h_pt_Zmumu->SetMarkerSize(2.0);\n",
    "h_pt_Zmumu->SetLineColor(kGray);  //Caracteristicas graficas de como se desea plotear(tipo de linea,color de relleno y margen)\n",
    "h_pt_Zmumu->SetFillColor(kGray-10);"
   ]
  },
  {
   "cell_type": "markdown",
   "metadata": {},
   "source": [
    "The Z boson analysis implemented here considers Z boson decays into a electron-positron or muon-antimuon pair. The event selection criteria are:"
   ]
  },
  {
   "cell_type": "code",
   "execution_count": 10,
   "metadata": {
    "collapsed": false,
    "scrolled": true
   },
   "outputs": [
    {
     "name": "stdout",
     "output_type": "stream",
     "text": [
      " Total number of entries to analyze: 15000000\r\n"
     ]
    }
   ],
   "source": [
    "int nentriesMC, nbytesMC, i;\n",
    "nentriesMC = (Int_t)MonteCarlo->GetEntries();\n",
    "\n",
    "std::cout << \" Total number of entries to analyze: \" << nentriesMC << std::endl;\n",
    "\n",
    "for (i=0;i< nentriesMC; i++)\n",
    "{\n",
    "    nbytesMC =  MonteCarlo->GetEntry(i);\n",
    "    \n",
    "    //Cut #1: We just want events with at least two leptons\n",
    "    if(MonteCarlo_lep_n>1)\n",
    "    {   \n",
    "        // TLorentzVector definitions \n",
    "        TLorentzVector Lepton_1  = TLorentzVector();\n",
    "        TLorentzVector Lepton_2  = TLorentzVector();\n",
    "        \n",
    "        Lepton_1.SetPtEtaPhiE(MonteCarlo_lep_pt[0], MonteCarlo_lep_eta[0], MonteCarlo_lep_phi[0],MonteCarlo_lep_E[0]);\n",
    "        Lepton_2.SetPtEtaPhiE(MonteCarlo_lep_pt[1], MonteCarlo_lep_eta[1], MonteCarlo_lep_phi[1],MonteCarlo_lep_E[1]);\n",
    "                \n",
    "        //Cut #2: Exactly two good leptons with pT > 25GeV\n",
    "        if(MonteCarlo_lep_n ==2 || MonteCarlo_lep_pt[2] <25000.)\n",
    "        {\n",
    "          //Cut #3: The two selected leptons must have opposite charge\n",
    "          int OS = MonteCarlo_lep_charge[0]*MonteCarlo_lep_charge[1];\n",
    "          if(OS == -1)\n",
    "          {  \n",
    "               //Cut 4: The two selected leptons have the same flauvour\n",
    "               if(MonteCarlo_lep_type[0] == MonteCarlo_lep_type[1])\n",
    "               {\n",
    "                   //Calculation of the Invariant Mass using TLorentz vectors\n",
    "                   TLorentzVector Lepton_12 = Lepton_1 + Lepton_2;\n",
    "                   \n",
    "                   float mass_inv_GeV = Lepton_12.M()/1000.; //Al dividir entre 1000 se hace la conversion de MeV a GeV\n",
    "                   float energy_GeV = (MonteCarlo_lep_E[0] + MonteCarlo_lep_E[1])/1000 ; //Considerando la energia total de los leptones\n",
    "                   float pt_Z = (MonteCarlo_lep_pt[0] + MonteCarlo_lep_pt[1])/1000. ; //El momento transversal estara determinado por\n",
    "\n",
    "                   /*Cut #4: The absolute value of the difference between the two leptons and the known Z boson mass \n",
    "                   (mz) must be less than 20 GeV (|mll - mz| < 20 GeV) with mz= 91.18GeV */\n",
    "                    if(TMath::Abs(mass_inv_GeV  - 90.18) < 20)\n",
    "                    {\n",
    "                        /*The runNumber value helps to separate the samples*/\n",
    "                        if(MonteCarlo_runNumber ==147770) // where 147770 == Zee\n",
    "                        {\n",
    "                            h_M_Zee->Fill(mass_inv_GeV); // invariant mass of two electrons\n",
    "                            h_E_Zee->Fill(energy_GeV);\n",
    "                            h_pt_Zee->Fill(pt_Z) ;\n",
    "                        }\n",
    "                        else if(MonteCarlo_runNumber ==147771) // where 147771 == Zmumu\n",
    "                        {\n",
    "                            h_M_Zmumu->Fill(mass_inv_GeV); // invariant mass of two muons\n",
    "                            h_E_Zmumu->Fill(energy_GeV);\n",
    "                            h_pt_Zmumu->Fill(pt_Z) ;\n",
    "                        }\n",
    "                    }\n",
    "                }\n",
    "            }\n",
    "        }\n",
    "    }\n",
    "}"
   ]
  },
  {
   "cell_type": "code",
   "execution_count": 11,
   "metadata": {
    "collapsed": false,
    "scrolled": true
   },
   "outputs": [
    {
     "data": {
      "image/png": "[encoded data removed]",
      "text/plain": [
       "<IPython.core.display.Image object>"
      ]
     },
     "metadata": {},
     "output_type": "display_data"
    }
   ],
   "source": [
    "TCanvas *cz = new TCanvas(\"cz\",\"cz\",10,10,900,600);\n",
    "    TText tz; tz.SetTextFont(42); tz.SetTextAlign(21);\n",
    "    cz->Divide(2,3);\n",
    "    cz->cd(1); h_M_Zee->Draw();\n",
    "    cz->cd(2); h_M_Zmumu->Draw();\n",
    "    cz->cd(3); h_E_Zee->Draw();\n",
    "    cz->cd(4); h_E_Zmumu->Draw();\n",
    "    cz->cd(5); h_pt_Zee->Draw();\n",
    "    cz->cd(6); h_pt_Zmumu->Draw();\n",
    "cz->Draw();"
   ]
  },
  {
   "cell_type": "markdown",
   "metadata": {},
   "source": [
    "<p>You can insert <b>HTML code</b> in other to get better documentation of the notebook...</p>"
   ]
  }
 ],
 "metadata": {
  "kernelspec": {
   "display_name": "ROOT Prompt",
   "language": "c++",
   "name": "root"
  },
  "language_info": {
   "codemirror_mode": {
    "name": "ipython",
    "version": 2
   },
   "file_extension": ".py",
   "mimetype": "text/x-python",
   "name": "python",
   "nbconvert_exporter": "python",
   "pygments_lexer": "ipython2",
   "version": "2.7.9"
  }
 },
 "nbformat": 4,
 "nbformat_minor": 1
}
